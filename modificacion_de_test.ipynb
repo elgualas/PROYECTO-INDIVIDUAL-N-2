{
 "cells": [
  {
   "cell_type": "code",
   "execution_count": 12,
   "metadata": {},
   "outputs": [],
   "source": [
    "import pandas as pd                 #importamos librerias\n",
    "import numpy as np\n",
    "import seaborn as sns\n",
    "from numpy import percentile\n",
    "import matplotlib.pyplot as plt"
   ]
  },
  {
   "cell_type": "code",
   "execution_count": 13,
   "metadata": {},
   "outputs": [],
   "source": [
    "test=pd.read_parquet('datasets/test.parquet', engine='fastparquet')  #traemos el dataset de testeo"
   ]
  },
  {
   "cell_type": "code",
   "execution_count": 14,
   "metadata": {},
   "outputs": [],
   "source": [
    "df = test.drop(columns=[\"id\",\"url\",\"region_url\",\"image_url\",\"description\"])     #quitamos las columna sin usar"
   ]
  },
  {
   "cell_type": "code",
   "execution_count": 15,
   "metadata": {},
   "outputs": [],
   "source": [
    "df.fillna({'laundry_options':'', 'parking_options':''}, inplace=True)       #al igual que con el dataset de entrenamiento reemplazamos valores"
   ]
  },
  {
   "cell_type": "code",
   "execution_count": 16,
   "metadata": {},
   "outputs": [],
   "source": [
    "df[\"lat\"] = df[\"lat\"].interpolate()                     #llenamos las columnas de latitud y longitud con el metodo interpolate\n",
    "df[\"long\"] = df[\"long\"].interpolate()"
   ]
  },
  {
   "cell_type": "code",
   "execution_count": 17,
   "metadata": {},
   "outputs": [
    {
     "data": {
      "text/plain": [
       "region                     0\n",
       "type                       0\n",
       "sqfeet                     0\n",
       "beds                       0\n",
       "baths                      0\n",
       "cats_allowed               0\n",
       "dogs_allowed               0\n",
       "smoking_allowed            0\n",
       "wheelchair_access          0\n",
       "electric_vehicle_charge    0\n",
       "comes_furnished            0\n",
       "laundry_options            0\n",
       "parking_options            0\n",
       "lat                        0\n",
       "long                       0\n",
       "state                      0\n",
       "dtype: int64"
      ]
     },
     "execution_count": 17,
     "metadata": {},
     "output_type": "execute_result"
    }
   ],
   "source": [
    "df.isna().sum()                                         #verificamos nulos"
   ]
  },
  {
   "attachments": {},
   "cell_type": "markdown",
   "metadata": {},
   "source": [
    "Convertimos a numeros los datos que se encuentran como string"
   ]
  },
  {
   "cell_type": "code",
   "execution_count": 18,
   "metadata": {},
   "outputs": [],
   "source": [
    "from sklearn import preprocessing\n",
    "\n",
    "label_encoder = preprocessing.LabelEncoder()\n",
    "df['region']=label_encoder.fit_transform(df['region'])\n",
    "df['type']=label_encoder.fit_transform(df['type'])\n",
    "df['laundry_options']=label_encoder.fit_transform(df['laundry_options'])\n",
    "df['parking_options']=label_encoder.fit_transform(df['parking_options'])\n",
    "df['state']=label_encoder.fit_transform(df['state'])"
   ]
  },
  {
   "cell_type": "code",
   "execution_count": 19,
   "metadata": {},
   "outputs": [],
   "source": [
    "df.to_csv('test_numerico.csv') #y obtenemos nuestro csv del test ya transformado"
   ]
  }
 ],
 "metadata": {
  "kernelspec": {
   "display_name": "base",
   "language": "python",
   "name": "python3"
  },
  "language_info": {
   "codemirror_mode": {
    "name": "ipython",
    "version": 3
   },
   "file_extension": ".py",
   "mimetype": "text/x-python",
   "name": "python",
   "nbconvert_exporter": "python",
   "pygments_lexer": "ipython3",
   "version": "3.9.12"
  },
  "orig_nbformat": 4,
  "vscode": {
   "interpreter": {
    "hash": "8c2e6f1f4adc7ae632a81ea71e6b725939e902c17d1e4f07be81139610fd6976"
   }
  }
 },
 "nbformat": 4,
 "nbformat_minor": 2
}
