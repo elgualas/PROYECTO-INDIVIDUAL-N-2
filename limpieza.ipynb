{
 "cells": [
  {
   "cell_type": "code",
   "execution_count": 2,
   "metadata": {},
   "outputs": [],
   "source": [
    "import pandas as pd\n",
    "import numpy as np\n",
    "import seaborn as sns\n",
    "from numpy import percentile\n",
    "import matplotlib.pyplot as plt"
   ]
  },
  {
   "cell_type": "code",
   "execution_count": 3,
   "metadata": {},
   "outputs": [],
   "source": [
    "train=pd.read_parquet('datasets/train.parquet', engine='fastparquet')\n"
   ]
  },
  {
   "cell_type": "code",
   "execution_count": 4,
   "metadata": {},
   "outputs": [
    {
     "data": {
      "text/plain": [
       "(346479, 22)"
      ]
     },
     "execution_count": 4,
     "metadata": {},
     "output_type": "execute_result"
    }
   ],
   "source": [
    "train.shape"
   ]
  },
  {
   "cell_type": "code",
   "execution_count": 5,
   "metadata": {},
   "outputs": [
    {
     "data": {
      "text/html": [
       "<div>\n",
       "<style scoped>\n",
       "    .dataframe tbody tr th:only-of-type {\n",
       "        vertical-align: middle;\n",
       "    }\n",
       "\n",
       "    .dataframe tbody tr th {\n",
       "        vertical-align: top;\n",
       "    }\n",
       "\n",
       "    .dataframe thead th {\n",
       "        text-align: right;\n",
       "    }\n",
       "</style>\n",
       "<table border=\"1\" class=\"dataframe\">\n",
       "  <thead>\n",
       "    <tr style=\"text-align: right;\">\n",
       "      <th></th>\n",
       "      <th>id</th>\n",
       "      <th>url</th>\n",
       "      <th>region</th>\n",
       "      <th>region_url</th>\n",
       "      <th>price</th>\n",
       "      <th>type</th>\n",
       "      <th>sqfeet</th>\n",
       "      <th>beds</th>\n",
       "      <th>baths</th>\n",
       "      <th>cats_allowed</th>\n",
       "      <th>...</th>\n",
       "      <th>wheelchair_access</th>\n",
       "      <th>electric_vehicle_charge</th>\n",
       "      <th>comes_furnished</th>\n",
       "      <th>laundry_options</th>\n",
       "      <th>parking_options</th>\n",
       "      <th>image_url</th>\n",
       "      <th>description</th>\n",
       "      <th>lat</th>\n",
       "      <th>long</th>\n",
       "      <th>state</th>\n",
       "    </tr>\n",
       "  </thead>\n",
       "  <tbody>\n",
       "    <tr>\n",
       "      <th>0</th>\n",
       "      <td>7048013474</td>\n",
       "      <td>https://boise.craigslist.org/apa/d/very-nice-b...</td>\n",
       "      <td>boise</td>\n",
       "      <td>https://boise.craigslist.org</td>\n",
       "      <td>1350</td>\n",
       "      <td>house</td>\n",
       "      <td>1200</td>\n",
       "      <td>2</td>\n",
       "      <td>2.0</td>\n",
       "      <td>1</td>\n",
       "      <td>...</td>\n",
       "      <td>0</td>\n",
       "      <td>0</td>\n",
       "      <td>0</td>\n",
       "      <td>w/d in unit</td>\n",
       "      <td>detached garage</td>\n",
       "      <td>https://images.craigslist.org/00B0B_cPiJMEheZe...</td>\n",
       "      <td>Super cute row house in the Boise bench area. ...</td>\n",
       "      <td>43.5851</td>\n",
       "      <td>-116.2250</td>\n",
       "      <td>id</td>\n",
       "    </tr>\n",
       "    <tr>\n",
       "      <th>1</th>\n",
       "      <td>7043931179</td>\n",
       "      <td>https://cosprings.craigslist.org/apa/d/colorad...</td>\n",
       "      <td>colorado springs</td>\n",
       "      <td>https://cosprings.craigslist.org</td>\n",
       "      <td>1115</td>\n",
       "      <td>apartment</td>\n",
       "      <td>694</td>\n",
       "      <td>1</td>\n",
       "      <td>1.0</td>\n",
       "      <td>1</td>\n",
       "      <td>...</td>\n",
       "      <td>0</td>\n",
       "      <td>0</td>\n",
       "      <td>0</td>\n",
       "      <td>w/d in unit</td>\n",
       "      <td>carport</td>\n",
       "      <td>https://images.craigslist.org/00R0R_5XAoSKvfrz...</td>\n",
       "      <td>Windtree Apartment Homes currently has a spaci...</td>\n",
       "      <td>38.9137</td>\n",
       "      <td>-104.7800</td>\n",
       "      <td>co</td>\n",
       "    </tr>\n",
       "    <tr>\n",
       "      <th>2</th>\n",
       "      <td>7048254516</td>\n",
       "      <td>https://norfolk.craigslist.org/apa/d/virginia-...</td>\n",
       "      <td>norfolk / hampton roads</td>\n",
       "      <td>https://norfolk.craigslist.org</td>\n",
       "      <td>1129</td>\n",
       "      <td>apartment</td>\n",
       "      <td>900</td>\n",
       "      <td>2</td>\n",
       "      <td>2.0</td>\n",
       "      <td>0</td>\n",
       "      <td>...</td>\n",
       "      <td>0</td>\n",
       "      <td>0</td>\n",
       "      <td>0</td>\n",
       "      <td>w/d hookups</td>\n",
       "      <td>off-street parking</td>\n",
       "      <td>https://images.craigslist.org/00f0f_3ZbTFrsHpZ...</td>\n",
       "      <td>Call Today!  show contact info   Indian Lakes ...</td>\n",
       "      <td>36.7922</td>\n",
       "      <td>-76.1643</td>\n",
       "      <td>va</td>\n",
       "    </tr>\n",
       "  </tbody>\n",
       "</table>\n",
       "<p>3 rows × 22 columns</p>\n",
       "</div>"
      ],
      "text/plain": [
       "           id                                                url  \\\n",
       "0  7048013474  https://boise.craigslist.org/apa/d/very-nice-b...   \n",
       "1  7043931179  https://cosprings.craigslist.org/apa/d/colorad...   \n",
       "2  7048254516  https://norfolk.craigslist.org/apa/d/virginia-...   \n",
       "\n",
       "                    region                        region_url  price  \\\n",
       "0                    boise      https://boise.craigslist.org   1350   \n",
       "1         colorado springs  https://cosprings.craigslist.org   1115   \n",
       "2  norfolk / hampton roads    https://norfolk.craigslist.org   1129   \n",
       "\n",
       "        type  sqfeet  beds  baths  cats_allowed  ...  wheelchair_access  \\\n",
       "0      house    1200     2    2.0             1  ...                  0   \n",
       "1  apartment     694     1    1.0             1  ...                  0   \n",
       "2  apartment     900     2    2.0             0  ...                  0   \n",
       "\n",
       "   electric_vehicle_charge  comes_furnished  laundry_options  \\\n",
       "0                        0                0      w/d in unit   \n",
       "1                        0                0      w/d in unit   \n",
       "2                        0                0      w/d hookups   \n",
       "\n",
       "      parking_options                                          image_url  \\\n",
       "0     detached garage  https://images.craigslist.org/00B0B_cPiJMEheZe...   \n",
       "1             carport  https://images.craigslist.org/00R0R_5XAoSKvfrz...   \n",
       "2  off-street parking  https://images.craigslist.org/00f0f_3ZbTFrsHpZ...   \n",
       "\n",
       "                                         description      lat      long  state  \n",
       "0  Super cute row house in the Boise bench area. ...  43.5851 -116.2250     id  \n",
       "1  Windtree Apartment Homes currently has a spaci...  38.9137 -104.7800     co  \n",
       "2  Call Today!  show contact info   Indian Lakes ...  36.7922  -76.1643     va  \n",
       "\n",
       "[3 rows x 22 columns]"
      ]
     },
     "execution_count": 5,
     "metadata": {},
     "output_type": "execute_result"
    }
   ],
   "source": [
    "train.head(3)"
   ]
  },
  {
   "cell_type": "code",
   "execution_count": 6,
   "metadata": {},
   "outputs": [
    {
     "data": {
      "text/html": [
       "<div>\n",
       "<style scoped>\n",
       "    .dataframe tbody tr th:only-of-type {\n",
       "        vertical-align: middle;\n",
       "    }\n",
       "\n",
       "    .dataframe tbody tr th {\n",
       "        vertical-align: top;\n",
       "    }\n",
       "\n",
       "    .dataframe thead th {\n",
       "        text-align: right;\n",
       "    }\n",
       "</style>\n",
       "<table border=\"1\" class=\"dataframe\">\n",
       "  <thead>\n",
       "    <tr style=\"text-align: right;\">\n",
       "      <th></th>\n",
       "      <th>id</th>\n",
       "      <th>url</th>\n",
       "      <th>region</th>\n",
       "      <th>region_url</th>\n",
       "      <th>price</th>\n",
       "      <th>type</th>\n",
       "      <th>sqfeet</th>\n",
       "      <th>beds</th>\n",
       "      <th>baths</th>\n",
       "      <th>cats_allowed</th>\n",
       "    </tr>\n",
       "  </thead>\n",
       "  <tbody>\n",
       "    <tr>\n",
       "      <th>0</th>\n",
       "      <td>7048013474</td>\n",
       "      <td>https://boise.craigslist.org/apa/d/very-nice-b...</td>\n",
       "      <td>boise</td>\n",
       "      <td>https://boise.craigslist.org</td>\n",
       "      <td>1350</td>\n",
       "      <td>house</td>\n",
       "      <td>1200</td>\n",
       "      <td>2</td>\n",
       "      <td>2.0</td>\n",
       "      <td>1</td>\n",
       "    </tr>\n",
       "    <tr>\n",
       "      <th>1</th>\n",
       "      <td>7043931179</td>\n",
       "      <td>https://cosprings.craigslist.org/apa/d/colorad...</td>\n",
       "      <td>colorado springs</td>\n",
       "      <td>https://cosprings.craigslist.org</td>\n",
       "      <td>1115</td>\n",
       "      <td>apartment</td>\n",
       "      <td>694</td>\n",
       "      <td>1</td>\n",
       "      <td>1.0</td>\n",
       "      <td>1</td>\n",
       "    </tr>\n",
       "    <tr>\n",
       "      <th>2</th>\n",
       "      <td>7048254516</td>\n",
       "      <td>https://norfolk.craigslist.org/apa/d/virginia-...</td>\n",
       "      <td>norfolk / hampton roads</td>\n",
       "      <td>https://norfolk.craigslist.org</td>\n",
       "      <td>1129</td>\n",
       "      <td>apartment</td>\n",
       "      <td>900</td>\n",
       "      <td>2</td>\n",
       "      <td>2.0</td>\n",
       "      <td>0</td>\n",
       "    </tr>\n",
       "  </tbody>\n",
       "</table>\n",
       "</div>"
      ],
      "text/plain": [
       "           id                                                url  \\\n",
       "0  7048013474  https://boise.craigslist.org/apa/d/very-nice-b...   \n",
       "1  7043931179  https://cosprings.craigslist.org/apa/d/colorad...   \n",
       "2  7048254516  https://norfolk.craigslist.org/apa/d/virginia-...   \n",
       "\n",
       "                    region                        region_url  price  \\\n",
       "0                    boise      https://boise.craigslist.org   1350   \n",
       "1         colorado springs  https://cosprings.craigslist.org   1115   \n",
       "2  norfolk / hampton roads    https://norfolk.craigslist.org   1129   \n",
       "\n",
       "        type  sqfeet  beds  baths  cats_allowed  \n",
       "0      house    1200     2    2.0             1  \n",
       "1  apartment     694     1    1.0             1  \n",
       "2  apartment     900     2    2.0             0  "
      ]
     },
     "execution_count": 6,
     "metadata": {},
     "output_type": "execute_result"
    }
   ],
   "source": [
    "train.iloc[:,0:10].head(3)"
   ]
  },
  {
   "cell_type": "code",
   "execution_count": 7,
   "metadata": {},
   "outputs": [
    {
     "data": {
      "text/html": [
       "<div>\n",
       "<style scoped>\n",
       "    .dataframe tbody tr th:only-of-type {\n",
       "        vertical-align: middle;\n",
       "    }\n",
       "\n",
       "    .dataframe tbody tr th {\n",
       "        vertical-align: top;\n",
       "    }\n",
       "\n",
       "    .dataframe thead th {\n",
       "        text-align: right;\n",
       "    }\n",
       "</style>\n",
       "<table border=\"1\" class=\"dataframe\">\n",
       "  <thead>\n",
       "    <tr style=\"text-align: right;\">\n",
       "      <th></th>\n",
       "      <th>dogs_allowed</th>\n",
       "      <th>smoking_allowed</th>\n",
       "      <th>wheelchair_access</th>\n",
       "      <th>electric_vehicle_charge</th>\n",
       "      <th>comes_furnished</th>\n",
       "      <th>laundry_options</th>\n",
       "      <th>parking_options</th>\n",
       "    </tr>\n",
       "  </thead>\n",
       "  <tbody>\n",
       "    <tr>\n",
       "      <th>0</th>\n",
       "      <td>1</td>\n",
       "      <td>1</td>\n",
       "      <td>0</td>\n",
       "      <td>0</td>\n",
       "      <td>0</td>\n",
       "      <td>w/d in unit</td>\n",
       "      <td>detached garage</td>\n",
       "    </tr>\n",
       "    <tr>\n",
       "      <th>1</th>\n",
       "      <td>1</td>\n",
       "      <td>1</td>\n",
       "      <td>0</td>\n",
       "      <td>0</td>\n",
       "      <td>0</td>\n",
       "      <td>w/d in unit</td>\n",
       "      <td>carport</td>\n",
       "    </tr>\n",
       "    <tr>\n",
       "      <th>2</th>\n",
       "      <td>0</td>\n",
       "      <td>1</td>\n",
       "      <td>0</td>\n",
       "      <td>0</td>\n",
       "      <td>0</td>\n",
       "      <td>w/d hookups</td>\n",
       "      <td>off-street parking</td>\n",
       "    </tr>\n",
       "  </tbody>\n",
       "</table>\n",
       "</div>"
      ],
      "text/plain": [
       "   dogs_allowed  smoking_allowed  wheelchair_access  electric_vehicle_charge  \\\n",
       "0             1                1                  0                        0   \n",
       "1             1                1                  0                        0   \n",
       "2             0                1                  0                        0   \n",
       "\n",
       "   comes_furnished laundry_options     parking_options  \n",
       "0                0     w/d in unit     detached garage  \n",
       "1                0     w/d in unit             carport  \n",
       "2                0     w/d hookups  off-street parking  "
      ]
     },
     "execution_count": 7,
     "metadata": {},
     "output_type": "execute_result"
    }
   ],
   "source": [
    "train.iloc[:,10:17].head(3)"
   ]
  },
  {
   "cell_type": "code",
   "execution_count": 8,
   "metadata": {},
   "outputs": [
    {
     "data": {
      "text/html": [
       "<div>\n",
       "<style scoped>\n",
       "    .dataframe tbody tr th:only-of-type {\n",
       "        vertical-align: middle;\n",
       "    }\n",
       "\n",
       "    .dataframe tbody tr th {\n",
       "        vertical-align: top;\n",
       "    }\n",
       "\n",
       "    .dataframe thead th {\n",
       "        text-align: right;\n",
       "    }\n",
       "</style>\n",
       "<table border=\"1\" class=\"dataframe\">\n",
       "  <thead>\n",
       "    <tr style=\"text-align: right;\">\n",
       "      <th></th>\n",
       "      <th>image_url</th>\n",
       "      <th>description</th>\n",
       "      <th>lat</th>\n",
       "      <th>long</th>\n",
       "      <th>state</th>\n",
       "    </tr>\n",
       "  </thead>\n",
       "  <tbody>\n",
       "    <tr>\n",
       "      <th>0</th>\n",
       "      <td>https://images.craigslist.org/00B0B_cPiJMEheZe...</td>\n",
       "      <td>Super cute row house in the Boise bench area. ...</td>\n",
       "      <td>43.5851</td>\n",
       "      <td>-116.2250</td>\n",
       "      <td>id</td>\n",
       "    </tr>\n",
       "    <tr>\n",
       "      <th>1</th>\n",
       "      <td>https://images.craigslist.org/00R0R_5XAoSKvfrz...</td>\n",
       "      <td>Windtree Apartment Homes currently has a spaci...</td>\n",
       "      <td>38.9137</td>\n",
       "      <td>-104.7800</td>\n",
       "      <td>co</td>\n",
       "    </tr>\n",
       "    <tr>\n",
       "      <th>2</th>\n",
       "      <td>https://images.craigslist.org/00f0f_3ZbTFrsHpZ...</td>\n",
       "      <td>Call Today!  show contact info   Indian Lakes ...</td>\n",
       "      <td>36.7922</td>\n",
       "      <td>-76.1643</td>\n",
       "      <td>va</td>\n",
       "    </tr>\n",
       "  </tbody>\n",
       "</table>\n",
       "</div>"
      ],
      "text/plain": [
       "                                           image_url  \\\n",
       "0  https://images.craigslist.org/00B0B_cPiJMEheZe...   \n",
       "1  https://images.craigslist.org/00R0R_5XAoSKvfrz...   \n",
       "2  https://images.craigslist.org/00f0f_3ZbTFrsHpZ...   \n",
       "\n",
       "                                         description      lat      long state  \n",
       "0  Super cute row house in the Boise bench area. ...  43.5851 -116.2250    id  \n",
       "1  Windtree Apartment Homes currently has a spaci...  38.9137 -104.7800    co  \n",
       "2  Call Today!  show contact info   Indian Lakes ...  36.7922  -76.1643    va  "
      ]
     },
     "execution_count": 8,
     "metadata": {},
     "output_type": "execute_result"
    }
   ],
   "source": [
    "train.iloc[:,17:].head(3)"
   ]
  },
  {
   "attachments": {},
   "cell_type": "markdown",
   "metadata": {},
   "source": [
    "***Datos duplicados***"
   ]
  },
  {
   "cell_type": "code",
   "execution_count": 9,
   "metadata": {},
   "outputs": [
    {
     "data": {
      "text/plain": [
       "0"
      ]
     },
     "execution_count": 9,
     "metadata": {},
     "output_type": "execute_result"
    }
   ],
   "source": [
    "train.duplicated().sum()"
   ]
  },
  {
   "cell_type": "code",
   "execution_count": 10,
   "metadata": {},
   "outputs": [
    {
     "data": {
      "text/plain": [
       "91488"
      ]
     },
     "execution_count": 10,
     "metadata": {},
     "output_type": "execute_result"
    }
   ],
   "source": [
    "train['description'].duplicated().sum()"
   ]
  },
  {
   "cell_type": "code",
   "execution_count": 11,
   "metadata": {},
   "outputs": [
    {
     "data": {
      "text/plain": [
       "(126930, 255782, 287091, 334698)"
      ]
     },
     "execution_count": 11,
     "metadata": {},
     "output_type": "execute_result"
    }
   ],
   "source": [
    "df = train.loc[train['description'].duplicated(keep=False),'description']\n",
    "df = df.groupby(df).apply(lambda x: tuple(x.index)).tolist()\n",
    "df[5]"
   ]
  },
  {
   "cell_type": "code",
   "execution_count": 12,
   "metadata": {},
   "outputs": [
    {
     "data": {
      "text/html": [
       "<div>\n",
       "<style scoped>\n",
       "    .dataframe tbody tr th:only-of-type {\n",
       "        vertical-align: middle;\n",
       "    }\n",
       "\n",
       "    .dataframe tbody tr th {\n",
       "        vertical-align: top;\n",
       "    }\n",
       "\n",
       "    .dataframe thead th {\n",
       "        text-align: right;\n",
       "    }\n",
       "</style>\n",
       "<table border=\"1\" class=\"dataframe\">\n",
       "  <thead>\n",
       "    <tr style=\"text-align: right;\">\n",
       "      <th></th>\n",
       "      <th>description</th>\n",
       "      <th>price</th>\n",
       "    </tr>\n",
       "  </thead>\n",
       "  <tbody>\n",
       "    <tr>\n",
       "      <th>126930</th>\n",
       "      <td>!!! For a limited time if you apply on the sam...</td>\n",
       "      <td>675</td>\n",
       "    </tr>\n",
       "    <tr>\n",
       "      <th>255782</th>\n",
       "      <td>!!! For a limited time if you apply on the sam...</td>\n",
       "      <td>675</td>\n",
       "    </tr>\n",
       "    <tr>\n",
       "      <th>287091</th>\n",
       "      <td>!!! For a limited time if you apply on the sam...</td>\n",
       "      <td>675</td>\n",
       "    </tr>\n",
       "    <tr>\n",
       "      <th>334698</th>\n",
       "      <td>!!! For a limited time if you apply on the sam...</td>\n",
       "      <td>675</td>\n",
       "    </tr>\n",
       "  </tbody>\n",
       "</table>\n",
       "</div>"
      ],
      "text/plain": [
       "                                              description  price\n",
       "126930  !!! For a limited time if you apply on the sam...    675\n",
       "255782  !!! For a limited time if you apply on the sam...    675\n",
       "287091  !!! For a limited time if you apply on the sam...    675\n",
       "334698  !!! For a limited time if you apply on the sam...    675"
      ]
     },
     "execution_count": 12,
     "metadata": {},
     "output_type": "execute_result"
    }
   ],
   "source": [
    "train.loc[[126930, 255782, 287091, 334698],['description','price']]"
   ]
  },
  {
   "cell_type": "code",
   "execution_count": 13,
   "metadata": {},
   "outputs": [],
   "source": [
    "train.drop_duplicates(subset='description', inplace=True)"
   ]
  },
  {
   "cell_type": "code",
   "execution_count": 14,
   "metadata": {},
   "outputs": [
    {
     "data": {
      "text/plain": [
       "(254991, 22)"
      ]
     },
     "execution_count": 14,
     "metadata": {},
     "output_type": "execute_result"
    }
   ],
   "source": [
    "train.shape"
   ]
  },
  {
   "cell_type": "code",
   "execution_count": 15,
   "metadata": {},
   "outputs": [
    {
     "data": {
      "text/plain": [
       "105628"
      ]
     },
     "execution_count": 15,
     "metadata": {},
     "output_type": "execute_result"
    }
   ],
   "source": [
    "train['image_url'].duplicated().sum()"
   ]
  },
  {
   "cell_type": "code",
   "execution_count": 16,
   "metadata": {},
   "outputs": [
    {
     "data": {
      "text/plain": [
       "(118647, 132724)"
      ]
     },
     "execution_count": 16,
     "metadata": {},
     "output_type": "execute_result"
    }
   ],
   "source": [
    "df = train.loc[train['image_url'].duplicated(keep=False),'image_url']\n",
    "df = df.groupby(df).apply(lambda x: tuple(x.index)).tolist()\n",
    "df[5]"
   ]
  },
  {
   "cell_type": "code",
   "execution_count": 17,
   "metadata": {},
   "outputs": [
    {
     "data": {
      "text/html": [
       "<div>\n",
       "<style scoped>\n",
       "    .dataframe tbody tr th:only-of-type {\n",
       "        vertical-align: middle;\n",
       "    }\n",
       "\n",
       "    .dataframe tbody tr th {\n",
       "        vertical-align: top;\n",
       "    }\n",
       "\n",
       "    .dataframe thead th {\n",
       "        text-align: right;\n",
       "    }\n",
       "</style>\n",
       "<table border=\"1\" class=\"dataframe\">\n",
       "  <thead>\n",
       "    <tr style=\"text-align: right;\">\n",
       "      <th></th>\n",
       "      <th>description</th>\n",
       "      <th>price</th>\n",
       "    </tr>\n",
       "  </thead>\n",
       "  <tbody>\n",
       "    <tr>\n",
       "      <th>118647</th>\n",
       "      <td>CALL TO SCHEDULE A TOUR TODAY!!  Riata Court i...</td>\n",
       "      <td>595</td>\n",
       "    </tr>\n",
       "    <tr>\n",
       "      <th>132724</th>\n",
       "      <td>CALL TO SCHEDULE A TOUR TODAY!!  Riata Court i...</td>\n",
       "      <td>585</td>\n",
       "    </tr>\n",
       "  </tbody>\n",
       "</table>\n",
       "</div>"
      ],
      "text/plain": [
       "                                              description  price\n",
       "118647  CALL TO SCHEDULE A TOUR TODAY!!  Riata Court i...    595\n",
       "132724  CALL TO SCHEDULE A TOUR TODAY!!  Riata Court i...    585"
      ]
     },
     "execution_count": 17,
     "metadata": {},
     "output_type": "execute_result"
    }
   ],
   "source": [
    "train.loc[[118647, 132724],['description','price']]"
   ]
  },
  {
   "cell_type": "code",
   "execution_count": 18,
   "metadata": {},
   "outputs": [],
   "source": [
    "train.drop_duplicates(subset='image_url', inplace=True)"
   ]
  },
  {
   "cell_type": "code",
   "execution_count": 19,
   "metadata": {},
   "outputs": [
    {
     "data": {
      "text/plain": [
       "(149363, 22)"
      ]
     },
     "execution_count": 19,
     "metadata": {},
     "output_type": "execute_result"
    }
   ],
   "source": [
    "train.shape"
   ]
  },
  {
   "cell_type": "code",
   "execution_count": 20,
   "metadata": {},
   "outputs": [
    {
     "data": {
      "text/html": [
       "<div>\n",
       "<style scoped>\n",
       "    .dataframe tbody tr th:only-of-type {\n",
       "        vertical-align: middle;\n",
       "    }\n",
       "\n",
       "    .dataframe tbody tr th {\n",
       "        vertical-align: top;\n",
       "    }\n",
       "\n",
       "    .dataframe thead th {\n",
       "        text-align: right;\n",
       "    }\n",
       "</style>\n",
       "<table border=\"1\" class=\"dataframe\">\n",
       "  <thead>\n",
       "    <tr style=\"text-align: right;\">\n",
       "      <th></th>\n",
       "      <th>id</th>\n",
       "      <th>url</th>\n",
       "      <th>region</th>\n",
       "      <th>region_url</th>\n",
       "      <th>price</th>\n",
       "      <th>type</th>\n",
       "      <th>sqfeet</th>\n",
       "      <th>beds</th>\n",
       "      <th>baths</th>\n",
       "      <th>cats_allowed</th>\n",
       "      <th>...</th>\n",
       "      <th>wheelchair_access</th>\n",
       "      <th>electric_vehicle_charge</th>\n",
       "      <th>comes_furnished</th>\n",
       "      <th>laundry_options</th>\n",
       "      <th>parking_options</th>\n",
       "      <th>image_url</th>\n",
       "      <th>description</th>\n",
       "      <th>lat</th>\n",
       "      <th>long</th>\n",
       "      <th>state</th>\n",
       "    </tr>\n",
       "  </thead>\n",
       "  <tbody>\n",
       "    <tr>\n",
       "      <th>1</th>\n",
       "      <td>7043931179</td>\n",
       "      <td>https://cosprings.craigslist.org/apa/d/colorad...</td>\n",
       "      <td>colorado springs</td>\n",
       "      <td>https://cosprings.craigslist.org</td>\n",
       "      <td>1115</td>\n",
       "      <td>apartment</td>\n",
       "      <td>694</td>\n",
       "      <td>1</td>\n",
       "      <td>1.0</td>\n",
       "      <td>1</td>\n",
       "      <td>...</td>\n",
       "      <td>0</td>\n",
       "      <td>0</td>\n",
       "      <td>0</td>\n",
       "      <td>w/d in unit</td>\n",
       "      <td>carport</td>\n",
       "      <td>https://images.craigslist.org/00R0R_5XAoSKvfrz...</td>\n",
       "      <td>Windtree Apartment Homes currently has a spaci...</td>\n",
       "      <td>38.9137</td>\n",
       "      <td>-104.78</td>\n",
       "      <td>co</td>\n",
       "    </tr>\n",
       "  </tbody>\n",
       "</table>\n",
       "<p>1 rows × 22 columns</p>\n",
       "</div>"
      ],
      "text/plain": [
       "           id                                                url  \\\n",
       "1  7043931179  https://cosprings.craigslist.org/apa/d/colorad...   \n",
       "\n",
       "             region                        region_url  price       type  \\\n",
       "1  colorado springs  https://cosprings.craigslist.org   1115  apartment   \n",
       "\n",
       "   sqfeet  beds  baths  cats_allowed  ...  wheelchair_access  \\\n",
       "1     694     1    1.0             1  ...                  0   \n",
       "\n",
       "   electric_vehicle_charge  comes_furnished  laundry_options  parking_options  \\\n",
       "1                        0                0      w/d in unit          carport   \n",
       "\n",
       "                                           image_url  \\\n",
       "1  https://images.craigslist.org/00R0R_5XAoSKvfrz...   \n",
       "\n",
       "                                         description      lat    long  state  \n",
       "1  Windtree Apartment Homes currently has a spaci...  38.9137 -104.78     co  \n",
       "\n",
       "[1 rows x 22 columns]"
      ]
     },
     "execution_count": 20,
     "metadata": {},
     "output_type": "execute_result"
    }
   ],
   "source": [
    "df=train.loc[train.duplicated(subset=['lat','long'],keep=False)]\n",
    "df.head(1)"
   ]
  },
  {
   "cell_type": "code",
   "execution_count": 21,
   "metadata": {},
   "outputs": [
    {
     "data": {
      "text/html": [
       "<div>\n",
       "<style scoped>\n",
       "    .dataframe tbody tr th:only-of-type {\n",
       "        vertical-align: middle;\n",
       "    }\n",
       "\n",
       "    .dataframe tbody tr th {\n",
       "        vertical-align: top;\n",
       "    }\n",
       "\n",
       "    .dataframe thead th {\n",
       "        text-align: right;\n",
       "    }\n",
       "</style>\n",
       "<table border=\"1\" class=\"dataframe\">\n",
       "  <thead>\n",
       "    <tr style=\"text-align: right;\">\n",
       "      <th></th>\n",
       "      <th>id</th>\n",
       "      <th>url</th>\n",
       "      <th>region</th>\n",
       "      <th>region_url</th>\n",
       "      <th>price</th>\n",
       "      <th>type</th>\n",
       "      <th>sqfeet</th>\n",
       "      <th>beds</th>\n",
       "      <th>baths</th>\n",
       "      <th>cats_allowed</th>\n",
       "      <th>...</th>\n",
       "      <th>wheelchair_access</th>\n",
       "      <th>electric_vehicle_charge</th>\n",
       "      <th>comes_furnished</th>\n",
       "      <th>laundry_options</th>\n",
       "      <th>parking_options</th>\n",
       "      <th>image_url</th>\n",
       "      <th>description</th>\n",
       "      <th>lat</th>\n",
       "      <th>long</th>\n",
       "      <th>state</th>\n",
       "    </tr>\n",
       "  </thead>\n",
       "  <tbody>\n",
       "    <tr>\n",
       "      <th>1</th>\n",
       "      <td>7043931179</td>\n",
       "      <td>https://cosprings.craigslist.org/apa/d/colorad...</td>\n",
       "      <td>colorado springs</td>\n",
       "      <td>https://cosprings.craigslist.org</td>\n",
       "      <td>1115</td>\n",
       "      <td>apartment</td>\n",
       "      <td>694</td>\n",
       "      <td>1</td>\n",
       "      <td>1.0</td>\n",
       "      <td>1</td>\n",
       "      <td>...</td>\n",
       "      <td>0</td>\n",
       "      <td>0</td>\n",
       "      <td>0</td>\n",
       "      <td>w/d in unit</td>\n",
       "      <td>carport</td>\n",
       "      <td>https://images.craigslist.org/00R0R_5XAoSKvfrz...</td>\n",
       "      <td>Windtree Apartment Homes currently has a spaci...</td>\n",
       "      <td>38.9137</td>\n",
       "      <td>-104.78</td>\n",
       "      <td>co</td>\n",
       "    </tr>\n",
       "    <tr>\n",
       "      <th>3059</th>\n",
       "      <td>7044610910</td>\n",
       "      <td>https://cosprings.craigslist.org/apa/d/colorad...</td>\n",
       "      <td>colorado springs</td>\n",
       "      <td>https://cosprings.craigslist.org</td>\n",
       "      <td>1115</td>\n",
       "      <td>apartment</td>\n",
       "      <td>694</td>\n",
       "      <td>1</td>\n",
       "      <td>1.0</td>\n",
       "      <td>1</td>\n",
       "      <td>...</td>\n",
       "      <td>0</td>\n",
       "      <td>0</td>\n",
       "      <td>0</td>\n",
       "      <td>w/d in unit</td>\n",
       "      <td>carport</td>\n",
       "      <td>https://images.craigslist.org/01010_kclotDj3Qz...</td>\n",
       "      <td>Windtree Apartment Homes currently has a spaci...</td>\n",
       "      <td>38.9137</td>\n",
       "      <td>-104.78</td>\n",
       "      <td>co</td>\n",
       "    </tr>\n",
       "    <tr>\n",
       "      <th>64538</th>\n",
       "      <td>7044619749</td>\n",
       "      <td>https://cosprings.craigslist.org/apa/d/colorad...</td>\n",
       "      <td>colorado springs</td>\n",
       "      <td>https://cosprings.craigslist.org</td>\n",
       "      <td>1170</td>\n",
       "      <td>apartment</td>\n",
       "      <td>694</td>\n",
       "      <td>1</td>\n",
       "      <td>1.0</td>\n",
       "      <td>1</td>\n",
       "      <td>...</td>\n",
       "      <td>0</td>\n",
       "      <td>0</td>\n",
       "      <td>0</td>\n",
       "      <td>w/d in unit</td>\n",
       "      <td>carport</td>\n",
       "      <td>https://images.craigslist.org/00202_klYn6SCeDR...</td>\n",
       "      <td>Windtree Apartment Homes currently has a spaci...</td>\n",
       "      <td>38.9137</td>\n",
       "      <td>-104.78</td>\n",
       "      <td>co</td>\n",
       "    </tr>\n",
       "  </tbody>\n",
       "</table>\n",
       "<p>3 rows × 22 columns</p>\n",
       "</div>"
      ],
      "text/plain": [
       "               id                                                url  \\\n",
       "1      7043931179  https://cosprings.craigslist.org/apa/d/colorad...   \n",
       "3059   7044610910  https://cosprings.craigslist.org/apa/d/colorad...   \n",
       "64538  7044619749  https://cosprings.craigslist.org/apa/d/colorad...   \n",
       "\n",
       "                 region                        region_url  price       type  \\\n",
       "1      colorado springs  https://cosprings.craigslist.org   1115  apartment   \n",
       "3059   colorado springs  https://cosprings.craigslist.org   1115  apartment   \n",
       "64538  colorado springs  https://cosprings.craigslist.org   1170  apartment   \n",
       "\n",
       "       sqfeet  beds  baths  cats_allowed  ...  wheelchair_access  \\\n",
       "1         694     1    1.0             1  ...                  0   \n",
       "3059      694     1    1.0             1  ...                  0   \n",
       "64538     694     1    1.0             1  ...                  0   \n",
       "\n",
       "       electric_vehicle_charge  comes_furnished  laundry_options  \\\n",
       "1                            0                0      w/d in unit   \n",
       "3059                         0                0      w/d in unit   \n",
       "64538                        0                0      w/d in unit   \n",
       "\n",
       "       parking_options                                          image_url  \\\n",
       "1              carport  https://images.craigslist.org/00R0R_5XAoSKvfrz...   \n",
       "3059           carport  https://images.craigslist.org/01010_kclotDj3Qz...   \n",
       "64538          carport  https://images.craigslist.org/00202_klYn6SCeDR...   \n",
       "\n",
       "                                             description      lat    long  \\\n",
       "1      Windtree Apartment Homes currently has a spaci...  38.9137 -104.78   \n",
       "3059   Windtree Apartment Homes currently has a spaci...  38.9137 -104.78   \n",
       "64538  Windtree Apartment Homes currently has a spaci...  38.9137 -104.78   \n",
       "\n",
       "       state  \n",
       "1         co  \n",
       "3059      co  \n",
       "64538     co  \n",
       "\n",
       "[3 rows x 22 columns]"
      ]
     },
     "execution_count": 21,
     "metadata": {},
     "output_type": "execute_result"
    }
   ],
   "source": [
    "train.loc[(train['lat']==38.9137)&(train['long']==-104.78)].head(3)"
   ]
  },
  {
   "cell_type": "code",
   "execution_count": 22,
   "metadata": {},
   "outputs": [],
   "source": [
    "train.drop_duplicates(subset=['lat','long'],inplace=True, keep='last')"
   ]
  },
  {
   "cell_type": "code",
   "execution_count": 23,
   "metadata": {},
   "outputs": [
    {
     "data": {
      "text/plain": [
       "(63527, 22)"
      ]
     },
     "execution_count": 23,
     "metadata": {},
     "output_type": "execute_result"
    }
   ],
   "source": [
    "train.shape"
   ]
  },
  {
   "attachments": {},
   "cell_type": "markdown",
   "metadata": {},
   "source": [
    "***Outliers***"
   ]
  },
  {
   "cell_type": "code",
   "execution_count": 24,
   "metadata": {},
   "outputs": [
    {
     "name": "stderr",
     "output_type": "stream",
     "text": [
      "c:\\Users\\gualas\\Anaconda3\\lib\\site-packages\\seaborn\\_decorators.py:36: FutureWarning: Pass the following variable as a keyword arg: x. From version 0.12, the only valid positional argument will be `data`, and passing other arguments without an explicit keyword will result in an error or misinterpretation.\n",
      "  warnings.warn(\n"
     ]
    },
    {
     "data": {
      "text/plain": [
       "<AxesSubplot:xlabel='price'>"
      ]
     },
     "execution_count": 24,
     "metadata": {},
     "output_type": "execute_result"
    },
    {
     "data": {
      "image/png": "[encoded data removed]",
      "text/plain": [
       "<Figure size 432x288 with 1 Axes>"
      ]
     },
     "metadata": {
      "needs_background": "light"
     },
     "output_type": "display_data"
    }
   ],
   "source": [
    "sns.boxplot(train['price'])"
   ]
  },
  {
   "cell_type": "code",
   "execution_count": 25,
   "metadata": {},
   "outputs": [],
   "source": [
    "# Calcular los valores máximo y mínimo considerados como outliers\n",
    "Q1 = train['price'].quantile(0.25)\n",
    "Q3 = train['price'].quantile(0.75)\n",
    "IQR = Q3 - Q1"
   ]
  },
  {
   "cell_type": "code",
   "execution_count": 26,
   "metadata": {},
   "outputs": [],
   "source": [
    "# Filtrar los valores fuera del rango (Q1 - 1.5 * IQR) y (Q3 + 1.5 * IQR)\n",
    "train = train[~((train['price'] < (Q1 - 1.5 * IQR)) | (train['price'] > (Q3 + 1.5 * IQR)))]"
   ]
  },
  {
   "cell_type": "code",
   "execution_count": 27,
   "metadata": {},
   "outputs": [
    {
     "name": "stderr",
     "output_type": "stream",
     "text": [
      "c:\\Users\\gualas\\Anaconda3\\lib\\site-packages\\seaborn\\_decorators.py:36: FutureWarning: Pass the following variable as a keyword arg: x. From version 0.12, the only valid positional argument will be `data`, and passing other arguments without an explicit keyword will result in an error or misinterpretation.\n",
      "  warnings.warn(\n"
     ]
    },
    {
     "data": {
      "text/plain": [
       "<AxesSubplot:xlabel='price'>"
      ]
     },
     "execution_count": 27,
     "metadata": {},
     "output_type": "execute_result"
    },
    {
     "data": {
      "image/png": "[encoded data removed]",
      "text/plain": [
       "<Figure size 432x288 with 1 Axes>"
      ]
     },
     "metadata": {
      "needs_background": "light"
     },
     "output_type": "display_data"
    }
   ],
   "source": [
    "sns.boxplot(train['price'])"
   ]
  },
  {
   "cell_type": "code",
   "execution_count": 28,
   "metadata": {},
   "outputs": [
    {
     "data": {
      "text/plain": [
       "(60031, 22)"
      ]
     },
     "execution_count": 28,
     "metadata": {},
     "output_type": "execute_result"
    }
   ],
   "source": [
    "train.shape"
   ]
  },
  {
   "attachments": {},
   "cell_type": "markdown",
   "metadata": {},
   "source": [
    "***Columna Target***"
   ]
  },
  {
   "cell_type": "code",
   "execution_count": 29,
   "metadata": {},
   "outputs": [
    {
     "data": {
      "text/plain": [
       "1222.3171028302045"
      ]
     },
     "execution_count": 29,
     "metadata": {},
     "output_type": "execute_result"
    }
   ],
   "source": [
    "promedio_precio=train['price'].mean()\n",
    "promedio_precio"
   ]
  },
  {
   "cell_type": "code",
   "execution_count": 30,
   "metadata": {},
   "outputs": [],
   "source": [
    "train['target']=0"
   ]
  },
  {
   "cell_type": "code",
   "execution_count": 31,
   "metadata": {},
   "outputs": [],
   "source": [
    "train.reset_index(inplace=True, drop=True)"
   ]
  },
  {
   "cell_type": "code",
   "execution_count": 32,
   "metadata": {},
   "outputs": [
    {
     "data": {
      "text/html": [
       "<div>\n",
       "<style scoped>\n",
       "    .dataframe tbody tr th:only-of-type {\n",
       "        vertical-align: middle;\n",
       "    }\n",
       "\n",
       "    .dataframe tbody tr th {\n",
       "        vertical-align: top;\n",
       "    }\n",
       "\n",
       "    .dataframe thead th {\n",
       "        text-align: right;\n",
       "    }\n",
       "</style>\n",
       "<table border=\"1\" class=\"dataframe\">\n",
       "  <thead>\n",
       "    <tr style=\"text-align: right;\">\n",
       "      <th></th>\n",
       "      <th>id</th>\n",
       "      <th>url</th>\n",
       "      <th>region</th>\n",
       "      <th>region_url</th>\n",
       "      <th>price</th>\n",
       "      <th>type</th>\n",
       "      <th>sqfeet</th>\n",
       "      <th>beds</th>\n",
       "      <th>baths</th>\n",
       "      <th>cats_allowed</th>\n",
       "      <th>...</th>\n",
       "      <th>electric_vehicle_charge</th>\n",
       "      <th>comes_furnished</th>\n",
       "      <th>laundry_options</th>\n",
       "      <th>parking_options</th>\n",
       "      <th>image_url</th>\n",
       "      <th>description</th>\n",
       "      <th>lat</th>\n",
       "      <th>long</th>\n",
       "      <th>state</th>\n",
       "      <th>target</th>\n",
       "    </tr>\n",
       "  </thead>\n",
       "  <tbody>\n",
       "    <tr>\n",
       "      <th>0</th>\n",
       "      <td>7048013474</td>\n",
       "      <td>https://boise.craigslist.org/apa/d/very-nice-b...</td>\n",
       "      <td>boise</td>\n",
       "      <td>https://boise.craigslist.org</td>\n",
       "      <td>1350</td>\n",
       "      <td>house</td>\n",
       "      <td>1200</td>\n",
       "      <td>2</td>\n",
       "      <td>2.0</td>\n",
       "      <td>1</td>\n",
       "      <td>...</td>\n",
       "      <td>0</td>\n",
       "      <td>0</td>\n",
       "      <td>w/d in unit</td>\n",
       "      <td>detached garage</td>\n",
       "      <td>https://images.craigslist.org/00B0B_cPiJMEheZe...</td>\n",
       "      <td>Super cute row house in the Boise bench area. ...</td>\n",
       "      <td>43.5851</td>\n",
       "      <td>-116.2250</td>\n",
       "      <td>id</td>\n",
       "      <td>0</td>\n",
       "    </tr>\n",
       "    <tr>\n",
       "      <th>1</th>\n",
       "      <td>7047343269</td>\n",
       "      <td>https://worcester.craigslist.org/apa/d/worcest...</td>\n",
       "      <td>worcester / central MA</td>\n",
       "      <td>https://worcester.craigslist.org</td>\n",
       "      <td>1300</td>\n",
       "      <td>apartment</td>\n",
       "      <td>1150</td>\n",
       "      <td>3</td>\n",
       "      <td>1.0</td>\n",
       "      <td>1</td>\n",
       "      <td>...</td>\n",
       "      <td>0</td>\n",
       "      <td>0</td>\n",
       "      <td>w/d in unit</td>\n",
       "      <td>off-street parking</td>\n",
       "      <td>https://images.craigslist.org/00x0x_cAeGUSUpyN...</td>\n",
       "      <td>NOTE: Available February 1st  This is a COMPLE...</td>\n",
       "      <td>42.2470</td>\n",
       "      <td>-71.7872</td>\n",
       "      <td>ma</td>\n",
       "      <td>0</td>\n",
       "    </tr>\n",
       "    <tr>\n",
       "      <th>2</th>\n",
       "      <td>7045980336</td>\n",
       "      <td>https://maine.craigslist.org/apa/d/monmouth-mo...</td>\n",
       "      <td>maine</td>\n",
       "      <td>https://maine.craigslist.org</td>\n",
       "      <td>900</td>\n",
       "      <td>duplex</td>\n",
       "      <td>1200</td>\n",
       "      <td>3</td>\n",
       "      <td>1.0</td>\n",
       "      <td>0</td>\n",
       "      <td>...</td>\n",
       "      <td>0</td>\n",
       "      <td>0</td>\n",
       "      <td>w/d hookups</td>\n",
       "      <td>detached garage</td>\n",
       "      <td>https://images.craigslist.org/00W0W_exHN8f8cs5...</td>\n",
       "      <td>Located in a small town with great schools (ne...</td>\n",
       "      <td>44.2354</td>\n",
       "      <td>-70.0288</td>\n",
       "      <td>me</td>\n",
       "      <td>0</td>\n",
       "    </tr>\n",
       "  </tbody>\n",
       "</table>\n",
       "<p>3 rows × 23 columns</p>\n",
       "</div>"
      ],
      "text/plain": [
       "           id                                                url  \\\n",
       "0  7048013474  https://boise.craigslist.org/apa/d/very-nice-b...   \n",
       "1  7047343269  https://worcester.craigslist.org/apa/d/worcest...   \n",
       "2  7045980336  https://maine.craigslist.org/apa/d/monmouth-mo...   \n",
       "\n",
       "                   region                        region_url  price       type  \\\n",
       "0                   boise      https://boise.craigslist.org   1350      house   \n",
       "1  worcester / central MA  https://worcester.craigslist.org   1300  apartment   \n",
       "2                   maine      https://maine.craigslist.org    900     duplex   \n",
       "\n",
       "   sqfeet  beds  baths  cats_allowed  ...  electric_vehicle_charge  \\\n",
       "0    1200     2    2.0             1  ...                        0   \n",
       "1    1150     3    1.0             1  ...                        0   \n",
       "2    1200     3    1.0             0  ...                        0   \n",
       "\n",
       "   comes_furnished  laundry_options     parking_options  \\\n",
       "0                0      w/d in unit     detached garage   \n",
       "1                0      w/d in unit  off-street parking   \n",
       "2                0      w/d hookups     detached garage   \n",
       "\n",
       "                                           image_url  \\\n",
       "0  https://images.craigslist.org/00B0B_cPiJMEheZe...   \n",
       "1  https://images.craigslist.org/00x0x_cAeGUSUpyN...   \n",
       "2  https://images.craigslist.org/00W0W_exHN8f8cs5...   \n",
       "\n",
       "                                         description      lat      long state  \\\n",
       "0  Super cute row house in the Boise bench area. ...  43.5851 -116.2250    id   \n",
       "1  NOTE: Available February 1st  This is a COMPLE...  42.2470  -71.7872    ma   \n",
       "2  Located in a small town with great schools (ne...  44.2354  -70.0288    me   \n",
       "\n",
       "   target  \n",
       "0       0  \n",
       "1       0  \n",
       "2       0  \n",
       "\n",
       "[3 rows x 23 columns]"
      ]
     },
     "execution_count": 32,
     "metadata": {},
     "output_type": "execute_result"
    }
   ],
   "source": [
    "train.head(3)"
   ]
  },
  {
   "cell_type": "code",
   "execution_count": 33,
   "metadata": {},
   "outputs": [
    {
     "name": "stderr",
     "output_type": "stream",
     "text": [
      "C:\\Users\\gualas\\AppData\\Local\\Temp\\ipykernel_11892\\3526590561.py:3: SettingWithCopyWarning: \n",
      "A value is trying to be set on a copy of a slice from a DataFrame\n",
      "\n",
      "See the caveats in the documentation: https://pandas.pydata.org/pandas-docs/stable/user_guide/indexing.html#returning-a-view-versus-a-copy\n",
      "  train['target'][i]=1\n"
     ]
    }
   ],
   "source": [
    "for i in range(len(train['price'])):\n",
    "    if train['price'][i]>=promedio_precio:\n",
    "        train['target'][i]=1\n",
    "    else:\n",
    "        pass"
   ]
  },
  {
   "cell_type": "code",
   "execution_count": 34,
   "metadata": {},
   "outputs": [
    {
     "data": {
      "image/png": "[encoded data removed]",
      "text/plain": [
       "<Figure size 432x288 with 1 Axes>"
      ]
     },
     "metadata": {},
     "output_type": "display_data"
    }
   ],
   "source": [
    "train['target'].value_counts().plot(kind = 'pie')\n",
    "plt.legend(['low', 'high'])\n",
    "plt.show()"
   ]
  },
  {
   "cell_type": "code",
   "execution_count": 35,
   "metadata": {},
   "outputs": [
    {
     "data": {
      "text/plain": [
       "id                             0\n",
       "url                            0\n",
       "region                         0\n",
       "region_url                     0\n",
       "price                          0\n",
       "type                           0\n",
       "sqfeet                         0\n",
       "beds                           0\n",
       "baths                          0\n",
       "cats_allowed                   0\n",
       "dogs_allowed                   0\n",
       "smoking_allowed                0\n",
       "wheelchair_access              0\n",
       "electric_vehicle_charge        0\n",
       "comes_furnished                0\n",
       "laundry_options             7882\n",
       "parking_options            13140\n",
       "image_url                      0\n",
       "description                    0\n",
       "lat                            1\n",
       "long                           1\n",
       "state                          0\n",
       "target                         0\n",
       "dtype: int64"
      ]
     },
     "execution_count": 35,
     "metadata": {},
     "output_type": "execute_result"
    }
   ],
   "source": [
    "train.isna().sum()#tomaremos los valores nulos de opcion a lavanderia y estacionamiento, como que el inmueble no lo posee\n",
    "                  #y eliminaremos el inmueble sin ubicacion "
   ]
  },
  {
   "cell_type": "code",
   "execution_count": 36,
   "metadata": {},
   "outputs": [],
   "source": [
    "train.fillna({'laundry_options':'', 'parking_options':''}, inplace=True)\n",
    "train.dropna(subset=['lat', 'long'], how='all',inplace=True)"
   ]
  },
  {
   "cell_type": "code",
   "execution_count": 37,
   "metadata": {},
   "outputs": [
    {
     "data": {
      "text/plain": [
       "(60030, 23)"
      ]
     },
     "execution_count": 37,
     "metadata": {},
     "output_type": "execute_result"
    }
   ],
   "source": [
    "train.shape"
   ]
  },
  {
   "attachments": {},
   "cell_type": "markdown",
   "metadata": {},
   "source": [
    "Eliminacion de columnas que no aportan"
   ]
  },
  {
   "cell_type": "code",
   "execution_count": 38,
   "metadata": {},
   "outputs": [],
   "source": [
    "df = train.drop(columns=[\"id\",\"url\",\"region_url\",\"image_url\",\"description\"])"
   ]
  },
  {
   "cell_type": "code",
   "execution_count": 42,
   "metadata": {},
   "outputs": [
    {
     "data": {
      "text/html": [
       "<div>\n",
       "<style scoped>\n",
       "    .dataframe tbody tr th:only-of-type {\n",
       "        vertical-align: middle;\n",
       "    }\n",
       "\n",
       "    .dataframe tbody tr th {\n",
       "        vertical-align: top;\n",
       "    }\n",
       "\n",
       "    .dataframe thead th {\n",
       "        text-align: right;\n",
       "    }\n",
       "</style>\n",
       "<table border=\"1\" class=\"dataframe\">\n",
       "  <thead>\n",
       "    <tr style=\"text-align: right;\">\n",
       "      <th></th>\n",
       "      <th>region</th>\n",
       "      <th>price</th>\n",
       "      <th>type</th>\n",
       "      <th>sqfeet</th>\n",
       "      <th>beds</th>\n",
       "      <th>baths</th>\n",
       "      <th>cats_allowed</th>\n",
       "      <th>dogs_allowed</th>\n",
       "      <th>smoking_allowed</th>\n",
       "      <th>wheelchair_access</th>\n",
       "      <th>electric_vehicle_charge</th>\n",
       "      <th>comes_furnished</th>\n",
       "      <th>laundry_options</th>\n",
       "      <th>parking_options</th>\n",
       "      <th>lat</th>\n",
       "      <th>long</th>\n",
       "      <th>state</th>\n",
       "      <th>target</th>\n",
       "    </tr>\n",
       "  </thead>\n",
       "  <tbody>\n",
       "    <tr>\n",
       "      <th>0</th>\n",
       "      <td>boise</td>\n",
       "      <td>1350</td>\n",
       "      <td>house</td>\n",
       "      <td>1200</td>\n",
       "      <td>2</td>\n",
       "      <td>2.0</td>\n",
       "      <td>1</td>\n",
       "      <td>1</td>\n",
       "      <td>1</td>\n",
       "      <td>0</td>\n",
       "      <td>0</td>\n",
       "      <td>0</td>\n",
       "      <td>w/d in unit</td>\n",
       "      <td>detached garage</td>\n",
       "      <td>43.5851</td>\n",
       "      <td>-116.2250</td>\n",
       "      <td>id</td>\n",
       "      <td>1</td>\n",
       "    </tr>\n",
       "    <tr>\n",
       "      <th>1</th>\n",
       "      <td>worcester / central MA</td>\n",
       "      <td>1300</td>\n",
       "      <td>apartment</td>\n",
       "      <td>1150</td>\n",
       "      <td>3</td>\n",
       "      <td>1.0</td>\n",
       "      <td>1</td>\n",
       "      <td>1</td>\n",
       "      <td>1</td>\n",
       "      <td>0</td>\n",
       "      <td>0</td>\n",
       "      <td>0</td>\n",
       "      <td>w/d in unit</td>\n",
       "      <td>off-street parking</td>\n",
       "      <td>42.2470</td>\n",
       "      <td>-71.7872</td>\n",
       "      <td>ma</td>\n",
       "      <td>1</td>\n",
       "    </tr>\n",
       "    <tr>\n",
       "      <th>2</th>\n",
       "      <td>maine</td>\n",
       "      <td>900</td>\n",
       "      <td>duplex</td>\n",
       "      <td>1200</td>\n",
       "      <td>3</td>\n",
       "      <td>1.0</td>\n",
       "      <td>0</td>\n",
       "      <td>0</td>\n",
       "      <td>0</td>\n",
       "      <td>0</td>\n",
       "      <td>0</td>\n",
       "      <td>0</td>\n",
       "      <td>w/d hookups</td>\n",
       "      <td>detached garage</td>\n",
       "      <td>44.2354</td>\n",
       "      <td>-70.0288</td>\n",
       "      <td>me</td>\n",
       "      <td>0</td>\n",
       "    </tr>\n",
       "    <tr>\n",
       "      <th>3</th>\n",
       "      <td>new orleans</td>\n",
       "      <td>975</td>\n",
       "      <td>apartment</td>\n",
       "      <td>875</td>\n",
       "      <td>2</td>\n",
       "      <td>1.0</td>\n",
       "      <td>0</td>\n",
       "      <td>0</td>\n",
       "      <td>0</td>\n",
       "      <td>0</td>\n",
       "      <td>0</td>\n",
       "      <td>0</td>\n",
       "      <td>w/d in unit</td>\n",
       "      <td>off-street parking</td>\n",
       "      <td>30.0165</td>\n",
       "      <td>-90.0655</td>\n",
       "      <td>la</td>\n",
       "      <td>0</td>\n",
       "    </tr>\n",
       "    <tr>\n",
       "      <th>4</th>\n",
       "      <td>augusta</td>\n",
       "      <td>959</td>\n",
       "      <td>apartment</td>\n",
       "      <td>1000</td>\n",
       "      <td>2</td>\n",
       "      <td>2.0</td>\n",
       "      <td>1</td>\n",
       "      <td>1</td>\n",
       "      <td>1</td>\n",
       "      <td>0</td>\n",
       "      <td>0</td>\n",
       "      <td>0</td>\n",
       "      <td>w/d hookups</td>\n",
       "      <td></td>\n",
       "      <td>33.4761</td>\n",
       "      <td>-82.0725</td>\n",
       "      <td>ga</td>\n",
       "      <td>0</td>\n",
       "    </tr>\n",
       "    <tr>\n",
       "      <th>5</th>\n",
       "      <td>albany</td>\n",
       "      <td>950</td>\n",
       "      <td>condo</td>\n",
       "      <td>1508</td>\n",
       "      <td>5</td>\n",
       "      <td>2.5</td>\n",
       "      <td>1</td>\n",
       "      <td>1</td>\n",
       "      <td>1</td>\n",
       "      <td>0</td>\n",
       "      <td>0</td>\n",
       "      <td>0</td>\n",
       "      <td></td>\n",
       "      <td></td>\n",
       "      <td>42.3948</td>\n",
       "      <td>-73.9623</td>\n",
       "      <td>ga</td>\n",
       "      <td>0</td>\n",
       "    </tr>\n",
       "    <tr>\n",
       "      <th>6</th>\n",
       "      <td>tampa bay area</td>\n",
       "      <td>956</td>\n",
       "      <td>apartment</td>\n",
       "      <td>650</td>\n",
       "      <td>1</td>\n",
       "      <td>1.0</td>\n",
       "      <td>1</td>\n",
       "      <td>1</td>\n",
       "      <td>1</td>\n",
       "      <td>0</td>\n",
       "      <td>0</td>\n",
       "      <td>0</td>\n",
       "      <td>w/d in unit</td>\n",
       "      <td>off-street parking</td>\n",
       "      <td>27.9181</td>\n",
       "      <td>-82.7239</td>\n",
       "      <td>fl</td>\n",
       "      <td>0</td>\n",
       "    </tr>\n",
       "    <tr>\n",
       "      <th>7</th>\n",
       "      <td>inland empire</td>\n",
       "      <td>1899</td>\n",
       "      <td>apartment</td>\n",
       "      <td>971</td>\n",
       "      <td>2</td>\n",
       "      <td>2.0</td>\n",
       "      <td>0</td>\n",
       "      <td>0</td>\n",
       "      <td>1</td>\n",
       "      <td>0</td>\n",
       "      <td>0</td>\n",
       "      <td>0</td>\n",
       "      <td></td>\n",
       "      <td></td>\n",
       "      <td>34.0721</td>\n",
       "      <td>-117.5990</td>\n",
       "      <td>ca</td>\n",
       "      <td>1</td>\n",
       "    </tr>\n",
       "    <tr>\n",
       "      <th>8</th>\n",
       "      <td>hawaii</td>\n",
       "      <td>1450</td>\n",
       "      <td>duplex</td>\n",
       "      <td>600</td>\n",
       "      <td>2</td>\n",
       "      <td>1.0</td>\n",
       "      <td>0</td>\n",
       "      <td>0</td>\n",
       "      <td>0</td>\n",
       "      <td>0</td>\n",
       "      <td>0</td>\n",
       "      <td>0</td>\n",
       "      <td></td>\n",
       "      <td>carport</td>\n",
       "      <td>21.4379</td>\n",
       "      <td>-158.1870</td>\n",
       "      <td>hi</td>\n",
       "      <td>1</td>\n",
       "    </tr>\n",
       "    <tr>\n",
       "      <th>9</th>\n",
       "      <td>st cloud</td>\n",
       "      <td>1250</td>\n",
       "      <td>townhouse</td>\n",
       "      <td>1522</td>\n",
       "      <td>2</td>\n",
       "      <td>1.5</td>\n",
       "      <td>0</td>\n",
       "      <td>0</td>\n",
       "      <td>0</td>\n",
       "      <td>0</td>\n",
       "      <td>0</td>\n",
       "      <td>0</td>\n",
       "      <td>w/d in unit</td>\n",
       "      <td>attached garage</td>\n",
       "      <td>45.7495</td>\n",
       "      <td>-94.2159</td>\n",
       "      <td>mn</td>\n",
       "      <td>1</td>\n",
       "    </tr>\n",
       "  </tbody>\n",
       "</table>\n",
       "</div>"
      ],
      "text/plain": [
       "                   region  price       type  sqfeet  beds  baths  \\\n",
       "0                   boise   1350      house    1200     2    2.0   \n",
       "1  worcester / central MA   1300  apartment    1150     3    1.0   \n",
       "2                   maine    900     duplex    1200     3    1.0   \n",
       "3             new orleans    975  apartment     875     2    1.0   \n",
       "4                 augusta    959  apartment    1000     2    2.0   \n",
       "5                  albany    950      condo    1508     5    2.5   \n",
       "6          tampa bay area    956  apartment     650     1    1.0   \n",
       "7           inland empire   1899  apartment     971     2    2.0   \n",
       "8                  hawaii   1450     duplex     600     2    1.0   \n",
       "9                st cloud   1250  townhouse    1522     2    1.5   \n",
       "\n",
       "   cats_allowed  dogs_allowed  smoking_allowed  wheelchair_access  \\\n",
       "0             1             1                1                  0   \n",
       "1             1             1                1                  0   \n",
       "2             0             0                0                  0   \n",
       "3             0             0                0                  0   \n",
       "4             1             1                1                  0   \n",
       "5             1             1                1                  0   \n",
       "6             1             1                1                  0   \n",
       "7             0             0                1                  0   \n",
       "8             0             0                0                  0   \n",
       "9             0             0                0                  0   \n",
       "\n",
       "   electric_vehicle_charge  comes_furnished laundry_options  \\\n",
       "0                        0                0     w/d in unit   \n",
       "1                        0                0     w/d in unit   \n",
       "2                        0                0     w/d hookups   \n",
       "3                        0                0     w/d in unit   \n",
       "4                        0                0     w/d hookups   \n",
       "5                        0                0                   \n",
       "6                        0                0     w/d in unit   \n",
       "7                        0                0                   \n",
       "8                        0                0                   \n",
       "9                        0                0     w/d in unit   \n",
       "\n",
       "      parking_options      lat      long state  target  \n",
       "0     detached garage  43.5851 -116.2250    id       1  \n",
       "1  off-street parking  42.2470  -71.7872    ma       1  \n",
       "2     detached garage  44.2354  -70.0288    me       0  \n",
       "3  off-street parking  30.0165  -90.0655    la       0  \n",
       "4                      33.4761  -82.0725    ga       0  \n",
       "5                      42.3948  -73.9623    ga       0  \n",
       "6  off-street parking  27.9181  -82.7239    fl       0  \n",
       "7                      34.0721 -117.5990    ca       1  \n",
       "8             carport  21.4379 -158.1870    hi       1  \n",
       "9     attached garage  45.7495  -94.2159    mn       1  "
      ]
     },
     "execution_count": 42,
     "metadata": {},
     "output_type": "execute_result"
    }
   ],
   "source": [
    "df.head(10)"
   ]
  },
  {
   "cell_type": "code",
   "execution_count": 39,
   "metadata": {},
   "outputs": [
    {
     "data": {
      "text/plain": [
       "region                     0\n",
       "price                      0\n",
       "type                       0\n",
       "sqfeet                     0\n",
       "beds                       0\n",
       "baths                      0\n",
       "cats_allowed               0\n",
       "dogs_allowed               0\n",
       "smoking_allowed            0\n",
       "wheelchair_access          0\n",
       "electric_vehicle_charge    0\n",
       "comes_furnished            0\n",
       "laundry_options            0\n",
       "parking_options            0\n",
       "lat                        0\n",
       "long                       0\n",
       "state                      0\n",
       "target                     0\n",
       "dtype: int64"
      ]
     },
     "execution_count": 39,
     "metadata": {},
     "output_type": "execute_result"
    }
   ],
   "source": [
    "df.isna().sum()"
   ]
  },
  {
   "attachments": {},
   "cell_type": "markdown",
   "metadata": {},
   "source": [
    "Convertimos a numeros los datos que se encuentran como string"
   ]
  },
  {
   "cell_type": "code",
   "execution_count": 43,
   "metadata": {},
   "outputs": [],
   "source": [
    "from sklearn import preprocessing\n",
    "\n",
    "label_encoder = preprocessing.LabelEncoder()\n",
    "df['region']=label_encoder.fit_transform(df['region'])\n",
    "df['type']=label_encoder.fit_transform(df['type'])\n",
    "df['laundry_options']=label_encoder.fit_transform(df['laundry_options'])\n",
    "df['parking_options']=label_encoder.fit_transform(df['parking_options'])\n",
    "df['state']=label_encoder.fit_transform(df['state'])\n"
   ]
  },
  {
   "cell_type": "code",
   "execution_count": 47,
   "metadata": {},
   "outputs": [],
   "source": [
    "def plot_corre_heatmap(corr):\n",
    "    plt.figure(figsize=(16,12))\n",
    "    sns.heatmap(corr, cbar = True,  square = False, annot=True, fmt= '.2f',annot_kws={'size': 15},cmap= 'coolwarm')\n",
    "    plt.xticks(rotation = 45)\n",
    "    plt.yticks(rotation = 45)\n",
    "    b, t = plt.ylim() \n",
    "    b += 0.5 \n",
    "    t -= 0.5 \n",
    "    plt.ylim(b, t)\n",
    "    plt.show()"
   ]
  },
  {
   "cell_type": "code",
   "execution_count": 48,
   "metadata": {},
   "outputs": [
    {
     "data": {
      "image/png": "[encoded data removed]",
      "text/plain": [
       "<Figure size 1152x864 with 2 Axes>"
      ]
     },
     "metadata": {
      "needs_background": "light"
     },
     "output_type": "display_data"
    }
   ],
   "source": [
    "plot_corre_heatmap(df.corr())"
   ]
  },
  {
   "cell_type": "code",
   "execution_count": 49,
   "metadata": {},
   "outputs": [],
   "source": [
    "df.to_csv('train_numerico.csv')"
   ]
  }
 ],
 "metadata": {
  "kernelspec": {
   "display_name": "base",
   "language": "python",
   "name": "python3"
  },
  "language_info": {
   "codemirror_mode": {
    "name": "ipython",
    "version": 3
   },
   "file_extension": ".py",
   "mimetype": "text/x-python",
   "name": "python",
   "nbconvert_exporter": "python",
   "pygments_lexer": "ipython3",
   "version": "3.9.12"
  },
  "orig_nbformat": 4,
  "vscode": {
   "interpreter": {
    "hash": "8c2e6f1f4adc7ae632a81ea71e6b725939e902c17d1e4f07be81139610fd6976"
   }
  }
 },
 "nbformat": 4,
 "nbformat_minor": 2
}
